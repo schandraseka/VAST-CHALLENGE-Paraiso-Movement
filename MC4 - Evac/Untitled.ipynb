{
 "cells": [
  {
   "cell_type": "code",
   "execution_count": 157,
   "metadata": {},
   "outputs": [
    {
     "data": {
      "text/html": [
       "\n",
       "    <div class=\"bk-root\">\n",
       "        <a href=\"https://bokeh.pydata.org\" target=\"_blank\" class=\"bk-logo bk-logo-small bk-logo-notebook\"></a>\n",
       "        <span id=\"67cec8c9-2458-409d-9112-98033fb0640c\">Loading BokehJS ...</span>\n",
       "    </div>"
      ]
     },
     "metadata": {},
     "output_type": "display_data"
    },
    {
     "data": {
      "application/javascript": [
       "\n",
       "(function(root) {\n",
       "  function now() {\n",
       "    return new Date();\n",
       "  }\n",
       "\n",
       "  var force = true;\n",
       "\n",
       "  if (typeof (root._bokeh_onload_callbacks) === \"undefined\" || force === true) {\n",
       "    root._bokeh_onload_callbacks = [];\n",
       "    root._bokeh_is_loading = undefined;\n",
       "  }\n",
       "\n",
       "\n",
       "  \n",
       "  if (typeof (root._bokeh_timeout) === \"undefined\" || force === true) {\n",
       "    root._bokeh_timeout = Date.now() + 5000;\n",
       "    root._bokeh_failed_load = false;\n",
       "  }\n",
       "\n",
       "  var NB_LOAD_WARNING = {'data': {'text/html':\n",
       "     \"<div style='background-color: #fdd'>\\n\"+\n",
       "     \"<p>\\n\"+\n",
       "     \"BokehJS does not appear to have successfully loaded. If loading BokehJS from CDN, this \\n\"+\n",
       "     \"may be due to a slow or bad network connection. Possible fixes:\\n\"+\n",
       "     \"</p>\\n\"+\n",
       "     \"<ul>\\n\"+\n",
       "     \"<li>re-rerun `output_notebook()` to attempt to load from CDN again, or</li>\\n\"+\n",
       "     \"<li>use INLINE resources instead, as so:</li>\\n\"+\n",
       "     \"</ul>\\n\"+\n",
       "     \"<code>\\n\"+\n",
       "     \"from bokeh.resources import INLINE\\n\"+\n",
       "     \"output_notebook(resources=INLINE)\\n\"+\n",
       "     \"</code>\\n\"+\n",
       "     \"</div>\"}};\n",
       "\n",
       "  function display_loaded() {\n",
       "    if (root.Bokeh !== undefined) {\n",
       "      var el = document.getElementById(\"67cec8c9-2458-409d-9112-98033fb0640c\");\n",
       "      if (el != null) {\n",
       "        el.textContent = \"BokehJS \" + Bokeh.version + \" successfully loaded.\";\n",
       "      }\n",
       "    } else if (Date.now() < root._bokeh_timeout) {\n",
       "      setTimeout(display_loaded, 100)\n",
       "    }\n",
       "  }\n",
       "\n",
       "\n",
       "  function run_callbacks() {\n",
       "    try {\n",
       "      root._bokeh_onload_callbacks.forEach(function(callback) { callback() });\n",
       "    }\n",
       "    finally {\n",
       "      delete root._bokeh_onload_callbacks\n",
       "    }\n",
       "    console.info(\"Bokeh: all callbacks have finished\");\n",
       "  }\n",
       "\n",
       "  function load_libs(js_urls, callback) {\n",
       "    root._bokeh_onload_callbacks.push(callback);\n",
       "    if (root._bokeh_is_loading > 0) {\n",
       "      console.log(\"Bokeh: BokehJS is being loaded, scheduling callback at\", now());\n",
       "      return null;\n",
       "    }\n",
       "    if (js_urls == null || js_urls.length === 0) {\n",
       "      run_callbacks();\n",
       "      return null;\n",
       "    }\n",
       "    console.log(\"Bokeh: BokehJS not loaded, scheduling load and callback at\", now());\n",
       "    root._bokeh_is_loading = js_urls.length;\n",
       "    for (var i = 0; i < js_urls.length; i++) {\n",
       "      var url = js_urls[i];\n",
       "      var s = document.createElement('script');\n",
       "      s.src = url;\n",
       "      s.async = false;\n",
       "      s.onreadystatechange = s.onload = function() {\n",
       "        root._bokeh_is_loading--;\n",
       "        if (root._bokeh_is_loading === 0) {\n",
       "          console.log(\"Bokeh: all BokehJS libraries loaded\");\n",
       "          run_callbacks()\n",
       "        }\n",
       "      };\n",
       "      s.onerror = function() {\n",
       "        console.warn(\"failed to load library \" + url);\n",
       "      };\n",
       "      console.log(\"Bokeh: injecting script tag for BokehJS library: \", url);\n",
       "      document.getElementsByTagName(\"head\")[0].appendChild(s);\n",
       "    }\n",
       "  };var element = document.getElementById(\"67cec8c9-2458-409d-9112-98033fb0640c\");\n",
       "  if (element == null) {\n",
       "    console.log(\"Bokeh: ERROR: autoload.js configured with elementid '67cec8c9-2458-409d-9112-98033fb0640c' but no matching script tag was found. \")\n",
       "    return false;\n",
       "  }\n",
       "\n",
       "  var js_urls = [\"https://cdn.pydata.org/bokeh/release/bokeh-0.12.7.min.js\", \"https://cdn.pydata.org/bokeh/release/bokeh-widgets-0.12.7.min.js\", \"https://cdn.pydata.org/bokeh/release/bokeh-tables-0.12.7.min.js\", \"https://cdn.pydata.org/bokeh/release/bokeh-gl-0.12.7.min.js\"];\n",
       "\n",
       "  var inline_js = [\n",
       "    function(Bokeh) {\n",
       "      Bokeh.set_log_level(\"info\");\n",
       "    },\n",
       "    \n",
       "    function(Bokeh) {\n",
       "      \n",
       "    },\n",
       "    \n",
       "    function(Bokeh) {\n",
       "      \n",
       "      document.getElementById(\"67cec8c9-2458-409d-9112-98033fb0640c\").textContent = \"BokehJS is loading...\";\n",
       "    },\n",
       "    function(Bokeh) {\n",
       "      console.log(\"Bokeh: injecting CSS: https://cdn.pydata.org/bokeh/release/bokeh-0.12.7.min.css\");\n",
       "      Bokeh.embed.inject_css(\"https://cdn.pydata.org/bokeh/release/bokeh-0.12.7.min.css\");\n",
       "      console.log(\"Bokeh: injecting CSS: https://cdn.pydata.org/bokeh/release/bokeh-widgets-0.12.7.min.css\");\n",
       "      Bokeh.embed.inject_css(\"https://cdn.pydata.org/bokeh/release/bokeh-widgets-0.12.7.min.css\");\n",
       "      console.log(\"Bokeh: injecting CSS: https://cdn.pydata.org/bokeh/release/bokeh-tables-0.12.7.min.css\");\n",
       "      Bokeh.embed.inject_css(\"https://cdn.pydata.org/bokeh/release/bokeh-tables-0.12.7.min.css\");\n",
       "    }\n",
       "  ];\n",
       "\n",
       "  function run_inline_js() {\n",
       "    \n",
       "    if ((root.Bokeh !== undefined) || (force === true)) {\n",
       "      for (var i = 0; i < inline_js.length; i++) {\n",
       "        inline_js[i].call(root, root.Bokeh);\n",
       "      }if (force === true) {\n",
       "        display_loaded();\n",
       "      }} else if (Date.now() < root._bokeh_timeout) {\n",
       "      setTimeout(run_inline_js, 100);\n",
       "    } else if (!root._bokeh_failed_load) {\n",
       "      console.log(\"Bokeh: BokehJS failed to load within specified timeout.\");\n",
       "      root._bokeh_failed_load = true;\n",
       "    } else if (force !== true) {\n",
       "      var cell = $(document.getElementById(\"67cec8c9-2458-409d-9112-98033fb0640c\")).parents('.cell').data().cell;\n",
       "      cell.output_area.append_execute_result(NB_LOAD_WARNING)\n",
       "    }\n",
       "\n",
       "  }\n",
       "\n",
       "  if (root._bokeh_is_loading === 0) {\n",
       "    console.log(\"Bokeh: BokehJS loaded, going straight to plotting\");\n",
       "    run_inline_js();\n",
       "  } else {\n",
       "    load_libs(js_urls, function() {\n",
       "      console.log(\"Bokeh: BokehJS plotting callback run at\", now());\n",
       "      run_inline_js();\n",
       "    });\n",
       "  }\n",
       "}(window));"
      ]
     },
     "metadata": {},
     "output_type": "display_data"
    }
   ],
   "source": [
    "import pandas as pd\n",
    "import numpy as np\n",
    "from bokeh.io import output_notebook, show, curdoc, push_notebook\n",
    "from bokeh.models import ColumnDataSource,HoverTool,ColorBar\n",
    "from bokeh.plotting import figure, show, output_notebook\n",
    "from sklearn.cluster import KMeans\n",
    "import matplotlib.pyplot as plt\n",
    "from bokeh.layouts import layout\n",
    "from bokeh.layouts import row\n",
    "from ipywidgets import interact\n",
    "import ipywidgets as widgets\n",
    "from ipywidgets import interact, interactive, fixed, interact_manual, IntSlider\n",
    "\n",
    "output_notebook()\n",
    "\n",
    "\n",
    "building = np.loadtxt('BUILDING DATA.txt')\n",
    "locations = pd.read_csv('RFID PATHWAY DATA v2.txt',delimiter='\\t')\n"
   ]
  },
  {
   "cell_type": "code",
   "execution_count": 158,
   "metadata": {},
   "outputs": [
    {
     "data": {
      "text/plain": [
       "(61, 91)"
      ]
     },
     "execution_count": 158,
     "metadata": {},
     "output_type": "execute_result"
    }
   ],
   "source": [
    "building.shape"
   ]
  },
  {
   "cell_type": "code",
   "execution_count": 159,
   "metadata": {
    "collapsed": true
   },
   "outputs": [],
   "source": [
    "x = []\n",
    "y = []\n",
    "\n",
    "for i in range(building.shape[0]):\n",
    "    for j in range(building.shape[1]):\n",
    "        if building[i][j]==1:\n",
    "            x.append(j)\n",
    "            y.append(building.shape[0]-i)"
   ]
  },
  {
   "cell_type": "code",
   "execution_count": 160,
   "metadata": {},
   "outputs": [
    {
     "data": {
      "image/png": "[encoded data removed]",
      "text/plain": [
       "<matplotlib.figure.Figure at 0x2259e0535c0>"
      ]
     },
     "metadata": {},
     "output_type": "display_data"
    }
   ],
   "source": [
    "plt.scatter(x,y)\n",
    "plt.scatter(locations['xcor'],locations['ycor'],c='red')\n",
    "plt.show()"
   ]
  },
  {
   "cell_type": "code",
   "execution_count": 161,
   "metadata": {
    "collapsed": true
   },
   "outputs": [],
   "source": [
    "locations = pd.read_csv('RFID PATHWAY DATA v2.txt',delimiter='\\t')"
   ]
  },
  {
   "cell_type": "code",
   "execution_count": 162,
   "metadata": {
    "collapsed": true
   },
   "outputs": [],
   "source": [
    "p = figure(title = \"Wholesale Customers Data\", tools=\"hover,lasso_select,pan,wheel_zoom,box_zoom,reset,save\")"
   ]
  },
  {
   "cell_type": "code",
   "execution_count": 163,
   "metadata": {
    "collapsed": true
   },
   "outputs": [],
   "source": [
    "def update(Time):\n",
    "    r = p.square(x, y, color='blue', fill_alpha=0.8, size=6)\n",
    "    locations_wr_time = locations[locations['Time']==Time]\n",
    "    p.circle(locations_wr_time['xcor'],locations_wr_time['ycor'],color='red',size=6,alpha=0.5)\n",
    "    push_notebook()"
   ]
  },
  {
   "cell_type": "code",
   "execution_count": 164,
   "metadata": {},
   "outputs": [
    {
     "name": "stderr",
     "output_type": "stream",
     "text": [
      "W-1001 (NO_DATA_RENDERERS): Plot has no data renderers: Figure(id='761cb357-c980-4670-b09a-cb45bdbad2c1', ...)\n"
     ]
    },
    {
     "data": {
      "text/html": [
       "\n",
       "\n",
       "    <div class=\"bk-root\">\n",
       "        <div class=\"bk-plotdiv\" id=\"7a7a360e-77a3-488e-85a7-b49c6cdb00f8\"></div>\n",
       "    </div>\n",
       "<script type=\"text/javascript\">\n",
       "  \n",
       "  (function(root) {\n",
       "    function now() {\n",
       "      return new Date();\n",
       "    }\n",
       "  \n",
       "    var force = false;\n",
       "  \n",
       "    if (typeof (root._bokeh_onload_callbacks) === \"undefined\" || force === true) {\n",
       "      root._bokeh_onload_callbacks = [];\n",
       "      root._bokeh_is_loading = undefined;\n",
       "    }\n",
       "  \n",
       "  \n",
       "    \n",
       "    if (typeof (root._bokeh_timeout) === \"undefined\" || force === true) {\n",
       "      root._bokeh_timeout = Date.now() + 0;\n",
       "      root._bokeh_failed_load = false;\n",
       "    }\n",
       "  \n",
       "    var NB_LOAD_WARNING = {'data': {'text/html':\n",
       "       \"<div style='background-color: #fdd'>\\n\"+\n",
       "       \"<p>\\n\"+\n",
       "       \"BokehJS does not appear to have successfully loaded. If loading BokehJS from CDN, this \\n\"+\n",
       "       \"may be due to a slow or bad network connection. Possible fixes:\\n\"+\n",
       "       \"</p>\\n\"+\n",
       "       \"<ul>\\n\"+\n",
       "       \"<li>re-rerun `output_notebook()` to attempt to load from CDN again, or</li>\\n\"+\n",
       "       \"<li>use INLINE resources instead, as so:</li>\\n\"+\n",
       "       \"</ul>\\n\"+\n",
       "       \"<code>\\n\"+\n",
       "       \"from bokeh.resources import INLINE\\n\"+\n",
       "       \"output_notebook(resources=INLINE)\\n\"+\n",
       "       \"</code>\\n\"+\n",
       "       \"</div>\"}};\n",
       "  \n",
       "    function display_loaded() {\n",
       "      if (root.Bokeh !== undefined) {\n",
       "        var el = document.getElementById(\"7a7a360e-77a3-488e-85a7-b49c6cdb00f8\");\n",
       "        if (el != null) {\n",
       "          el.textContent = \"BokehJS \" + Bokeh.version + \" successfully loaded.\";\n",
       "        }\n",
       "      } else if (Date.now() < root._bokeh_timeout) {\n",
       "        setTimeout(display_loaded, 100)\n",
       "      }\n",
       "    }\n",
       "  \n",
       "  \n",
       "    function run_callbacks() {\n",
       "      try {\n",
       "        root._bokeh_onload_callbacks.forEach(function(callback) { callback() });\n",
       "      }\n",
       "      finally {\n",
       "        delete root._bokeh_onload_callbacks\n",
       "      }\n",
       "      console.info(\"Bokeh: all callbacks have finished\");\n",
       "    }\n",
       "  \n",
       "    function load_libs(js_urls, callback) {\n",
       "      root._bokeh_onload_callbacks.push(callback);\n",
       "      if (root._bokeh_is_loading > 0) {\n",
       "        console.log(\"Bokeh: BokehJS is being loaded, scheduling callback at\", now());\n",
       "        return null;\n",
       "      }\n",
       "      if (js_urls == null || js_urls.length === 0) {\n",
       "        run_callbacks();\n",
       "        return null;\n",
       "      }\n",
       "      console.log(\"Bokeh: BokehJS not loaded, scheduling load and callback at\", now());\n",
       "      root._bokeh_is_loading = js_urls.length;\n",
       "      for (var i = 0; i < js_urls.length; i++) {\n",
       "        var url = js_urls[i];\n",
       "        var s = document.createElement('script');\n",
       "        s.src = url;\n",
       "        s.async = false;\n",
       "        s.onreadystatechange = s.onload = function() {\n",
       "          root._bokeh_is_loading--;\n",
       "          if (root._bokeh_is_loading === 0) {\n",
       "            console.log(\"Bokeh: all BokehJS libraries loaded\");\n",
       "            run_callbacks()\n",
       "          }\n",
       "        };\n",
       "        s.onerror = function() {\n",
       "          console.warn(\"failed to load library \" + url);\n",
       "        };\n",
       "        console.log(\"Bokeh: injecting script tag for BokehJS library: \", url);\n",
       "        document.getElementsByTagName(\"head\")[0].appendChild(s);\n",
       "      }\n",
       "    };var element = document.getElementById(\"7a7a360e-77a3-488e-85a7-b49c6cdb00f8\");\n",
       "    if (element == null) {\n",
       "      console.log(\"Bokeh: ERROR: autoload.js configured with elementid '7a7a360e-77a3-488e-85a7-b49c6cdb00f8' but no matching script tag was found. \")\n",
       "      return false;\n",
       "    }\n",
       "  \n",
       "    var js_urls = [];\n",
       "  \n",
       "    var inline_js = [\n",
       "      function(Bokeh) {\n",
       "        (function() {\n",
       "          var fn = function() {\n",
       "            var docs_json = {\"3e3c2fa1-7f5f-461d-82a6-f1dfb0b21d9b\":{\"roots\":{\"references\":[{\"attributes\":{\"callback\":null},\"id\":\"ac96a324-2a01-46ef-a620-9c1360bc3c2f\",\"type\":\"HoverTool\"},{\"attributes\":{\"plot\":null,\"text\":\"Wholesale Customers Data\"},\"id\":\"160eafd3-c1c9-477d-a242-fe7053535f46\",\"type\":\"Title\"},{\"attributes\":{},\"id\":\"232613c7-02f2-4e6f-941e-4320fa5f5e30\",\"type\":\"LinearScale\"},{\"attributes\":{\"bottom_units\":\"screen\",\"fill_alpha\":{\"value\":0.5},\"fill_color\":{\"value\":\"lightgrey\"},\"left_units\":\"screen\",\"level\":\"overlay\",\"line_alpha\":{\"value\":1.0},\"line_color\":{\"value\":\"black\"},\"line_dash\":[4,4],\"line_width\":{\"value\":2},\"plot\":null,\"render_mode\":\"css\",\"right_units\":\"screen\",\"top_units\":\"screen\"},\"id\":\"6db36252-54b5-4768-b377-e996ea572613\",\"type\":\"BoxAnnotation\"},{\"attributes\":{\"active_drag\":\"auto\",\"active_inspect\":\"auto\",\"active_scroll\":\"auto\",\"active_tap\":\"auto\",\"tools\":[{\"id\":\"ac96a324-2a01-46ef-a620-9c1360bc3c2f\",\"type\":\"HoverTool\"},{\"id\":\"b69f7ee7-80f2-4acf-97f9-02e36347fc7b\",\"type\":\"LassoSelectTool\"},{\"id\":\"0ac5e843-3b75-4026-bb1d-c661c05342c3\",\"type\":\"PanTool\"},{\"id\":\"d1daef2c-adf1-48f6-89a7-3d968eed5f52\",\"type\":\"WheelZoomTool\"},{\"id\":\"e30566d0-868b-4293-8bed-3e5876a31e73\",\"type\":\"BoxZoomTool\"},{\"id\":\"9aff07bd-7103-4714-a383-0d01763f34a5\",\"type\":\"ResetTool\"},{\"id\":\"1134370c-5fe5-49a8-96b2-15ef59b07825\",\"type\":\"SaveTool\"}]},\"id\":\"c09c8320-666f-42b1-8119-6536b0bb3aa3\",\"type\":\"Toolbar\"},{\"attributes\":{\"formatter\":{\"id\":\"4b4f9ed9-0fd9-4421-b13c-61336d346ccc\",\"type\":\"BasicTickFormatter\"},\"plot\":{\"id\":\"761cb357-c980-4670-b09a-cb45bdbad2c1\",\"subtype\":\"Figure\",\"type\":\"Plot\"},\"ticker\":{\"id\":\"04e16cda-3f35-4dbb-9570-9e26fa349806\",\"type\":\"BasicTicker\"}},\"id\":\"c498c2e8-c186-4f3d-8012-2b28a08f81e7\",\"type\":\"LinearAxis\"},{\"attributes\":{},\"id\":\"04e16cda-3f35-4dbb-9570-9e26fa349806\",\"type\":\"BasicTicker\"},{\"attributes\":{\"callback\":null},\"id\":\"907c9a85-8d07-493b-9c73-1b695ad4434c\",\"type\":\"DataRange1d\"},{\"attributes\":{},\"id\":\"aa0d9f77-f0b2-415b-b849-85c1354e164f\",\"type\":\"BasicTickFormatter\"},{\"attributes\":{\"below\":[{\"id\":\"ea71eb98-05c9-4e48-ae76-f383dfdb1764\",\"type\":\"LinearAxis\"}],\"left\":[{\"id\":\"c498c2e8-c186-4f3d-8012-2b28a08f81e7\",\"type\":\"LinearAxis\"}],\"renderers\":[{\"id\":\"ea71eb98-05c9-4e48-ae76-f383dfdb1764\",\"type\":\"LinearAxis\"},{\"id\":\"d996ca55-357d-45d6-b5ca-4dadcc6e4925\",\"type\":\"Grid\"},{\"id\":\"c498c2e8-c186-4f3d-8012-2b28a08f81e7\",\"type\":\"LinearAxis\"},{\"id\":\"3fc85820-7b9b-4288-afec-d20a40c1899c\",\"type\":\"Grid\"},{\"id\":\"6ab1a1e9-b8cf-48ba-81f7-4913afc95b0c\",\"type\":\"PolyAnnotation\"},{\"id\":\"6db36252-54b5-4768-b377-e996ea572613\",\"type\":\"BoxAnnotation\"}],\"title\":{\"id\":\"160eafd3-c1c9-477d-a242-fe7053535f46\",\"type\":\"Title\"},\"toolbar\":{\"id\":\"c09c8320-666f-42b1-8119-6536b0bb3aa3\",\"type\":\"Toolbar\"},\"x_range\":{\"id\":\"907c9a85-8d07-493b-9c73-1b695ad4434c\",\"type\":\"DataRange1d\"},\"x_scale\":{\"id\":\"77ccee35-1dd1-4859-84a9-298957c5e430\",\"type\":\"LinearScale\"},\"y_range\":{\"id\":\"52cc9729-e49e-484a-8922-473c7d1cc5f5\",\"type\":\"DataRange1d\"},\"y_scale\":{\"id\":\"232613c7-02f2-4e6f-941e-4320fa5f5e30\",\"type\":\"LinearScale\"}},\"id\":\"761cb357-c980-4670-b09a-cb45bdbad2c1\",\"subtype\":\"Figure\",\"type\":\"Plot\"},{\"attributes\":{},\"id\":\"4b4f9ed9-0fd9-4421-b13c-61336d346ccc\",\"type\":\"BasicTickFormatter\"},{\"attributes\":{},\"id\":\"9aff07bd-7103-4714-a383-0d01763f34a5\",\"type\":\"ResetTool\"},{\"attributes\":{\"formatter\":{\"id\":\"aa0d9f77-f0b2-415b-b849-85c1354e164f\",\"type\":\"BasicTickFormatter\"},\"plot\":{\"id\":\"761cb357-c980-4670-b09a-cb45bdbad2c1\",\"subtype\":\"Figure\",\"type\":\"Plot\"},\"ticker\":{\"id\":\"cf51a78a-68a8-412e-9ee3-c79006d24dd4\",\"type\":\"BasicTicker\"}},\"id\":\"ea71eb98-05c9-4e48-ae76-f383dfdb1764\",\"type\":\"LinearAxis\"},{\"attributes\":{\"dimension\":1,\"plot\":{\"id\":\"761cb357-c980-4670-b09a-cb45bdbad2c1\",\"subtype\":\"Figure\",\"type\":\"Plot\"},\"ticker\":{\"id\":\"04e16cda-3f35-4dbb-9570-9e26fa349806\",\"type\":\"BasicTicker\"}},\"id\":\"3fc85820-7b9b-4288-afec-d20a40c1899c\",\"type\":\"Grid\"},{\"attributes\":{},\"id\":\"1134370c-5fe5-49a8-96b2-15ef59b07825\",\"type\":\"SaveTool\"},{\"attributes\":{},\"id\":\"d1daef2c-adf1-48f6-89a7-3d968eed5f52\",\"type\":\"WheelZoomTool\"},{\"attributes\":{\"fill_alpha\":{\"value\":0.5},\"fill_color\":{\"value\":\"lightgrey\"},\"level\":\"overlay\",\"line_alpha\":{\"value\":1.0},\"line_color\":{\"value\":\"black\"},\"line_dash\":[4,4],\"line_width\":{\"value\":2},\"plot\":null,\"xs_units\":\"screen\",\"ys_units\":\"screen\"},\"id\":\"6ab1a1e9-b8cf-48ba-81f7-4913afc95b0c\",\"type\":\"PolyAnnotation\"},{\"attributes\":{},\"id\":\"0ac5e843-3b75-4026-bb1d-c661c05342c3\",\"type\":\"PanTool\"},{\"attributes\":{},\"id\":\"cf51a78a-68a8-412e-9ee3-c79006d24dd4\",\"type\":\"BasicTicker\"},{\"attributes\":{},\"id\":\"77ccee35-1dd1-4859-84a9-298957c5e430\",\"type\":\"LinearScale\"},{\"attributes\":{\"plot\":{\"id\":\"761cb357-c980-4670-b09a-cb45bdbad2c1\",\"subtype\":\"Figure\",\"type\":\"Plot\"},\"ticker\":{\"id\":\"cf51a78a-68a8-412e-9ee3-c79006d24dd4\",\"type\":\"BasicTicker\"}},\"id\":\"d996ca55-357d-45d6-b5ca-4dadcc6e4925\",\"type\":\"Grid\"},{\"attributes\":{\"overlay\":{\"id\":\"6db36252-54b5-4768-b377-e996ea572613\",\"type\":\"BoxAnnotation\"}},\"id\":\"e30566d0-868b-4293-8bed-3e5876a31e73\",\"type\":\"BoxZoomTool\"},{\"attributes\":{\"callback\":null},\"id\":\"52cc9729-e49e-484a-8922-473c7d1cc5f5\",\"type\":\"DataRange1d\"},{\"attributes\":{\"callback\":null,\"overlay\":{\"id\":\"6ab1a1e9-b8cf-48ba-81f7-4913afc95b0c\",\"type\":\"PolyAnnotation\"}},\"id\":\"b69f7ee7-80f2-4acf-97f9-02e36347fc7b\",\"type\":\"LassoSelectTool\"}],\"root_ids\":[\"761cb357-c980-4670-b09a-cb45bdbad2c1\"]},\"title\":\"Bokeh Application\",\"version\":\"0.12.7\"}};\n",
       "            var render_items = [{\"docid\":\"3e3c2fa1-7f5f-461d-82a6-f1dfb0b21d9b\",\"elementid\":\"7a7a360e-77a3-488e-85a7-b49c6cdb00f8\",\"modelid\":\"761cb357-c980-4670-b09a-cb45bdbad2c1\",\"notebook_comms_target\":\"25312a5b-11e0-486f-906a-697aee003ae4\"}];\n",
       "            \n",
       "            Bokeh.embed.embed_items(docs_json, render_items);\n",
       "          };\n",
       "          if (document.readyState != \"loading\") fn();\n",
       "          else document.addEventListener(\"DOMContentLoaded\", fn);\n",
       "        })();\n",
       "      },\n",
       "      function(Bokeh) {\n",
       "      }\n",
       "    ];\n",
       "  \n",
       "    function run_inline_js() {\n",
       "      \n",
       "      if ((root.Bokeh !== undefined) || (force === true)) {\n",
       "        for (var i = 0; i < inline_js.length; i++) {\n",
       "          inline_js[i].call(root, root.Bokeh);\n",
       "        }if (force === true) {\n",
       "          display_loaded();\n",
       "        }} else if (Date.now() < root._bokeh_timeout) {\n",
       "        setTimeout(run_inline_js, 100);\n",
       "      } else if (!root._bokeh_failed_load) {\n",
       "        console.log(\"Bokeh: BokehJS failed to load within specified timeout.\");\n",
       "        root._bokeh_failed_load = true;\n",
       "      } else if (force !== true) {\n",
       "        var cell = $(document.getElementById(\"7a7a360e-77a3-488e-85a7-b49c6cdb00f8\")).parents('.cell').data().cell;\n",
       "        cell.output_area.append_execute_result(NB_LOAD_WARNING)\n",
       "      }\n",
       "  \n",
       "    }\n",
       "  \n",
       "    if (root._bokeh_is_loading === 0) {\n",
       "      console.log(\"Bokeh: BokehJS loaded, going straight to plotting\");\n",
       "      run_inline_js();\n",
       "    } else {\n",
       "      load_libs(js_urls, function() {\n",
       "        console.log(\"Bokeh: BokehJS plotting callback run at\", now());\n",
       "        run_inline_js();\n",
       "      });\n",
       "    }\n",
       "  }(window));\n",
       "</script>"
      ]
     },
     "metadata": {},
     "output_type": "display_data"
    }
   ],
   "source": [
    "show(p, notebook_handle=True)"
   ]
  },
  {
   "cell_type": "code",
   "execution_count": 171,
   "metadata": {},
   "outputs": [
    {
     "data": {
      "application/vnd.jupyter.widget-view+json": {
       "model_id": "fa3ce030f43e47649fa9d4ddbe108937"
      }
     },
     "metadata": {},
     "output_type": "display_data"
    },
    {
     "data": {
      "text/plain": [
       "<function __main__.update>"
      ]
     },
     "execution_count": 171,
     "metadata": {},
     "output_type": "execute_result"
    }
   ],
   "source": [
    "interact(update,Time=IntSlider(min=1,max=locations.shape[0],step=1,value=1))"
   ]
  },
  {
   "cell_type": "code",
   "execution_count": 166,
   "metadata": {},
   "outputs": [
    {
     "data": {
      "text/plain": [
       "{'_callbacks': {},\n",
       " '_document': <bokeh.document.Document at 0x2259a0a7978>,\n",
       " '_event_callbacks': {},\n",
       " '_id': '761cb357-c980-4670-b09a-cb45bdbad2c1',\n",
       " '_property_values': {'below': [LinearAxis(id='ea71eb98-05c9-4e48-ae76-f383dfdb1764', ...)],\n",
       "  'left': [LinearAxis(id='c498c2e8-c186-4f3d-8012-2b28a08f81e7', ...)],\n",
       "  'renderers': [LinearAxis(id='ea71eb98-05c9-4e48-ae76-f383dfdb1764', ...),\n",
       "   Grid(id='d996ca55-357d-45d6-b5ca-4dadcc6e4925', ...),\n",
       "   LinearAxis(id='c498c2e8-c186-4f3d-8012-2b28a08f81e7', ...),\n",
       "   Grid(id='3fc85820-7b9b-4288-afec-d20a40c1899c', ...),\n",
       "   PolyAnnotation(id='6ab1a1e9-b8cf-48ba-81f7-4913afc95b0c', ...),\n",
       "   BoxAnnotation(id='6db36252-54b5-4768-b377-e996ea572613', ...),\n",
       "   GlyphRenderer(id='3bc0ae0e-e710-46ed-9647-a148a300f763', ...),\n",
       "   GlyphRenderer(id='8e888ac4-6507-4264-abcc-34727aaa3862', ...)],\n",
       "  'title': Title(id='160eafd3-c1c9-477d-a242-fe7053535f46', ...),\n",
       "  'toolbar': Toolbar(id='c09c8320-666f-42b1-8119-6536b0bb3aa3', ...),\n",
       "  'x_range': DataRange1d(id='907c9a85-8d07-493b-9c73-1b695ad4434c', ...),\n",
       "  'x_scale': LinearScale(id='77ccee35-1dd1-4859-84a9-298957c5e430', ...),\n",
       "  'y_range': DataRange1d(id='52cc9729-e49e-484a-8922-473c7d1cc5f5', ...),\n",
       "  'y_scale': LinearScale(id='232613c7-02f2-4e6f-941e-4320fa5f5e30', ...)},\n",
       " '_unstable_default_values': {'above': [],\n",
       "  'extra_x_ranges': {},\n",
       "  'extra_y_ranges': {},\n",
       "  'js_event_callbacks': {},\n",
       "  'js_property_callbacks': {},\n",
       "  'right': []},\n",
       " '_unstable_themed_values': {}}"
      ]
     },
     "execution_count": 166,
     "metadata": {},
     "output_type": "execute_result"
    }
   ],
   "source": [
    "p.__dict__"
   ]
  },
  {
   "cell_type": "code",
   "execution_count": 167,
   "metadata": {},
   "outputs": [
    {
     "data": {
      "text/plain": [
       "{'below': [LinearAxis(id='ea71eb98-05c9-4e48-ae76-f383dfdb1764', ...)],\n",
       " 'left': [LinearAxis(id='c498c2e8-c186-4f3d-8012-2b28a08f81e7', ...)],\n",
       " 'renderers': [LinearAxis(id='ea71eb98-05c9-4e48-ae76-f383dfdb1764', ...),\n",
       "  Grid(id='d996ca55-357d-45d6-b5ca-4dadcc6e4925', ...),\n",
       "  LinearAxis(id='c498c2e8-c186-4f3d-8012-2b28a08f81e7', ...),\n",
       "  Grid(id='3fc85820-7b9b-4288-afec-d20a40c1899c', ...),\n",
       "  PolyAnnotation(id='6ab1a1e9-b8cf-48ba-81f7-4913afc95b0c', ...),\n",
       "  BoxAnnotation(id='6db36252-54b5-4768-b377-e996ea572613', ...),\n",
       "  GlyphRenderer(id='3bc0ae0e-e710-46ed-9647-a148a300f763', ...),\n",
       "  GlyphRenderer(id='8e888ac4-6507-4264-abcc-34727aaa3862', ...)],\n",
       " 'title': Title(id='160eafd3-c1c9-477d-a242-fe7053535f46', ...),\n",
       " 'toolbar': Toolbar(id='c09c8320-666f-42b1-8119-6536b0bb3aa3', ...),\n",
       " 'x_range': DataRange1d(id='907c9a85-8d07-493b-9c73-1b695ad4434c', ...),\n",
       " 'x_scale': LinearScale(id='77ccee35-1dd1-4859-84a9-298957c5e430', ...),\n",
       " 'y_range': DataRange1d(id='52cc9729-e49e-484a-8922-473c7d1cc5f5', ...),\n",
       " 'y_scale': LinearScale(id='232613c7-02f2-4e6f-941e-4320fa5f5e30', ...)}"
      ]
     },
     "execution_count": 167,
     "metadata": {},
     "output_type": "execute_result"
    }
   ],
   "source": [
    "p.__dict__['_property_values']"
   ]
  },
  {
   "cell_type": "code",
   "execution_count": null,
   "metadata": {},
   "outputs": [],
   "source": []
  },
  {
   "cell_type": "code",
   "execution_count": 168,
   "metadata": {},
   "outputs": [],
   "source": [
    "#p.__dict__['_property_values']['renderers'] = p.__dict__['_property_values']['renderers'][:6]"
   ]
  },
  {
   "cell_type": "code",
   "execution_count": null,
   "metadata": {
    "collapsed": true
   },
   "outputs": [],
   "source": []
  }
 ],
 "metadata": {
  "kernelspec": {
   "display_name": "Python 3",
   "language": "python",
   "name": "python3"
  },
  "language_info": {
   "codemirror_mode": {
    "name": "ipython",
    "version": 3
   },
   "file_extension": ".py",
   "mimetype": "text/x-python",
   "name": "python",
   "nbconvert_exporter": "python",
   "pygments_lexer": "ipython3",
   "version": "3.6.1"
  }
 },
 "nbformat": 4,
 "nbformat_minor": 2
}
