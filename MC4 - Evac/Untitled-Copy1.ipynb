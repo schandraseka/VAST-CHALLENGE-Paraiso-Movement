{
 "cells": [
  {
   "cell_type": "code",
   "execution_count": 1,
   "metadata": {},
   "outputs": [
    {
     "data": {
      "text/html": [
       "\n",
       "    <div class=\"bk-root\">\n",
       "        <a href=\"https://bokeh.pydata.org\" target=\"_blank\" class=\"bk-logo bk-logo-small bk-logo-notebook\"></a>\n",
       "        <span id=\"f3cee416-d127-4880-8267-f50bc30c37ec\">Loading BokehJS ...</span>\n",
       "    </div>"
      ]
     },
     "metadata": {},
     "output_type": "display_data"
    },
    {
     "data": {
      "application/javascript": [
       "\n",
       "(function(root) {\n",
       "  function now() {\n",
       "    return new Date();\n",
       "  }\n",
       "\n",
       "  var force = true;\n",
       "\n",
       "  if (typeof (root._bokeh_onload_callbacks) === \"undefined\" || force === true) {\n",
       "    root._bokeh_onload_callbacks = [];\n",
       "    root._bokeh_is_loading = undefined;\n",
       "  }\n",
       "\n",
       "\n",
       "  \n",
       "  if (typeof (root._bokeh_timeout) === \"undefined\" || force === true) {\n",
       "    root._bokeh_timeout = Date.now() + 5000;\n",
       "    root._bokeh_failed_load = false;\n",
       "  }\n",
       "\n",
       "  var NB_LOAD_WARNING = {'data': {'text/html':\n",
       "     \"<div style='background-color: #fdd'>\\n\"+\n",
       "     \"<p>\\n\"+\n",
       "     \"BokehJS does not appear to have successfully loaded. If loading BokehJS from CDN, this \\n\"+\n",
       "     \"may be due to a slow or bad network connection. Possible fixes:\\n\"+\n",
       "     \"</p>\\n\"+\n",
       "     \"<ul>\\n\"+\n",
       "     \"<li>re-rerun `output_notebook()` to attempt to load from CDN again, or</li>\\n\"+\n",
       "     \"<li>use INLINE resources instead, as so:</li>\\n\"+\n",
       "     \"</ul>\\n\"+\n",
       "     \"<code>\\n\"+\n",
       "     \"from bokeh.resources import INLINE\\n\"+\n",
       "     \"output_notebook(resources=INLINE)\\n\"+\n",
       "     \"</code>\\n\"+\n",
       "     \"</div>\"}};\n",
       "\n",
       "  function display_loaded() {\n",
       "    if (root.Bokeh !== undefined) {\n",
       "      var el = document.getElementById(\"f3cee416-d127-4880-8267-f50bc30c37ec\");\n",
       "      if (el != null) {\n",
       "        el.textContent = \"BokehJS \" + Bokeh.version + \" successfully loaded.\";\n",
       "      }\n",
       "    } else if (Date.now() < root._bokeh_timeout) {\n",
       "      setTimeout(display_loaded, 100)\n",
       "    }\n",
       "  }\n",
       "\n",
       "\n",
       "  function run_callbacks() {\n",
       "    try {\n",
       "      root._bokeh_onload_callbacks.forEach(function(callback) { callback() });\n",
       "    }\n",
       "    finally {\n",
       "      delete root._bokeh_onload_callbacks\n",
       "    }\n",
       "    console.info(\"Bokeh: all callbacks have finished\");\n",
       "  }\n",
       "\n",
       "  function load_libs(js_urls, callback) {\n",
       "    root._bokeh_onload_callbacks.push(callback);\n",
       "    if (root._bokeh_is_loading > 0) {\n",
       "      console.log(\"Bokeh: BokehJS is being loaded, scheduling callback at\", now());\n",
       "      return null;\n",
       "    }\n",
       "    if (js_urls == null || js_urls.length === 0) {\n",
       "      run_callbacks();\n",
       "      return null;\n",
       "    }\n",
       "    console.log(\"Bokeh: BokehJS not loaded, scheduling load and callback at\", now());\n",
       "    root._bokeh_is_loading = js_urls.length;\n",
       "    for (var i = 0; i < js_urls.length; i++) {\n",
       "      var url = js_urls[i];\n",
       "      var s = document.createElement('script');\n",
       "      s.src = url;\n",
       "      s.async = false;\n",
       "      s.onreadystatechange = s.onload = function() {\n",
       "        root._bokeh_is_loading--;\n",
       "        if (root._bokeh_is_loading === 0) {\n",
       "          console.log(\"Bokeh: all BokehJS libraries loaded\");\n",
       "          run_callbacks()\n",
       "        }\n",
       "      };\n",
       "      s.onerror = function() {\n",
       "        console.warn(\"failed to load library \" + url);\n",
       "      };\n",
       "      console.log(\"Bokeh: injecting script tag for BokehJS library: \", url);\n",
       "      document.getElementsByTagName(\"head\")[0].appendChild(s);\n",
       "    }\n",
       "  };var element = document.getElementById(\"f3cee416-d127-4880-8267-f50bc30c37ec\");\n",
       "  if (element == null) {\n",
       "    console.log(\"Bokeh: ERROR: autoload.js configured with elementid 'f3cee416-d127-4880-8267-f50bc30c37ec' but no matching script tag was found. \")\n",
       "    return false;\n",
       "  }\n",
       "\n",
       "  var js_urls = [\"https://cdn.pydata.org/bokeh/release/bokeh-0.12.7.min.js\", \"https://cdn.pydata.org/bokeh/release/bokeh-widgets-0.12.7.min.js\", \"https://cdn.pydata.org/bokeh/release/bokeh-tables-0.12.7.min.js\", \"https://cdn.pydata.org/bokeh/release/bokeh-gl-0.12.7.min.js\"];\n",
       "\n",
       "  var inline_js = [\n",
       "    function(Bokeh) {\n",
       "      Bokeh.set_log_level(\"info\");\n",
       "    },\n",
       "    \n",
       "    function(Bokeh) {\n",
       "      \n",
       "    },\n",
       "    \n",
       "    function(Bokeh) {\n",
       "      \n",
       "      document.getElementById(\"f3cee416-d127-4880-8267-f50bc30c37ec\").textContent = \"BokehJS is loading...\";\n",
       "    },\n",
       "    function(Bokeh) {\n",
       "      console.log(\"Bokeh: injecting CSS: https://cdn.pydata.org/bokeh/release/bokeh-0.12.7.min.css\");\n",
       "      Bokeh.embed.inject_css(\"https://cdn.pydata.org/bokeh/release/bokeh-0.12.7.min.css\");\n",
       "      console.log(\"Bokeh: injecting CSS: https://cdn.pydata.org/bokeh/release/bokeh-widgets-0.12.7.min.css\");\n",
       "      Bokeh.embed.inject_css(\"https://cdn.pydata.org/bokeh/release/bokeh-widgets-0.12.7.min.css\");\n",
       "      console.log(\"Bokeh: injecting CSS: https://cdn.pydata.org/bokeh/release/bokeh-tables-0.12.7.min.css\");\n",
       "      Bokeh.embed.inject_css(\"https://cdn.pydata.org/bokeh/release/bokeh-tables-0.12.7.min.css\");\n",
       "    }\n",
       "  ];\n",
       "\n",
       "  function run_inline_js() {\n",
       "    \n",
       "    if ((root.Bokeh !== undefined) || (force === true)) {\n",
       "      for (var i = 0; i < inline_js.length; i++) {\n",
       "        inline_js[i].call(root, root.Bokeh);\n",
       "      }if (force === true) {\n",
       "        display_loaded();\n",
       "      }} else if (Date.now() < root._bokeh_timeout) {\n",
       "      setTimeout(run_inline_js, 100);\n",
       "    } else if (!root._bokeh_failed_load) {\n",
       "      console.log(\"Bokeh: BokehJS failed to load within specified timeout.\");\n",
       "      root._bokeh_failed_load = true;\n",
       "    } else if (force !== true) {\n",
       "      var cell = $(document.getElementById(\"f3cee416-d127-4880-8267-f50bc30c37ec\")).parents('.cell').data().cell;\n",
       "      cell.output_area.append_execute_result(NB_LOAD_WARNING)\n",
       "    }\n",
       "\n",
       "  }\n",
       "\n",
       "  if (root._bokeh_is_loading === 0) {\n",
       "    console.log(\"Bokeh: BokehJS loaded, going straight to plotting\");\n",
       "    run_inline_js();\n",
       "  } else {\n",
       "    load_libs(js_urls, function() {\n",
       "      console.log(\"Bokeh: BokehJS plotting callback run at\", now());\n",
       "      run_inline_js();\n",
       "    });\n",
       "  }\n",
       "}(window));"
      ]
     },
     "metadata": {},
     "output_type": "display_data"
    }
   ],
   "source": [
    "import pandas as pd\n",
    "import numpy as np\n",
    "from bokeh.io import output_notebook, show, curdoc, push_notebook\n",
    "from bokeh.models import ColumnDataSource,HoverTool,ColorBar\n",
    "from bokeh.plotting import figure, show, output_notebook\n",
    "from sklearn.cluster import KMeans\n",
    "import matplotlib.pyplot as plt\n",
    "from bokeh.layouts import layout\n",
    "from bokeh.layouts import row\n",
    "from ipywidgets import interact\n",
    "import ipywidgets as widgets\n",
    "from ipywidgets import interact, interactive, fixed, interact_manual, IntSlider\n",
    "\n",
    "output_notebook()\n",
    "\n",
    "\n",
    "building = np.loadtxt('BUILDING DATA.txt')\n",
    "locations = pd.read_csv('RFID PATHWAY DATA v2.txt',delimiter='\\t')\n"
   ]
  },
  {
   "cell_type": "code",
   "execution_count": 2,
   "metadata": {},
   "outputs": [
    {
     "data": {
      "text/plain": [
       "(61, 91)"
      ]
     },
     "execution_count": 2,
     "metadata": {},
     "output_type": "execute_result"
    }
   ],
   "source": [
    "building.shape"
   ]
  },
  {
   "cell_type": "code",
   "execution_count": 3,
   "metadata": {
    "collapsed": true
   },
   "outputs": [],
   "source": [
    "x = []\n",
    "y = []\n",
    "\n",
    "for i in range(building.shape[0]):\n",
    "    for j in range(building.shape[1]):\n",
    "        if building[i][j]==1:\n",
    "            x.append(j)\n",
    "            y.append(building.shape[0]-i)"
   ]
  },
  {
   "cell_type": "code",
   "execution_count": 4,
   "metadata": {},
   "outputs": [
    {
     "data": {
      "image/png": "[encoded data removed]",
      "text/plain": [
       "<matplotlib.figure.Figure at 0x28bb9926f28>"
      ]
     },
     "metadata": {},
     "output_type": "display_data"
    }
   ],
   "source": [
    "plt.scatter(x,y)\n",
    "plt.scatter(locations['xcor'],locations['ycor'],c='red')\n",
    "plt.show()"
   ]
  },
  {
   "cell_type": "code",
   "execution_count": 5,
   "metadata": {
    "collapsed": true
   },
   "outputs": [],
   "source": [
    "locations = pd.read_csv('RFID PATHWAY DATA v2.txt',delimiter='\\t')\n"
   ]
  },
  {
   "cell_type": "code",
   "execution_count": 6,
   "metadata": {},
   "outputs": [
    {
     "data": {
      "text/html": [
       "<div>\n",
       "<style>\n",
       "    .dataframe thead tr:only-child th {\n",
       "        text-align: right;\n",
       "    }\n",
       "\n",
       "    .dataframe thead th {\n",
       "        text-align: left;\n",
       "    }\n",
       "\n",
       "    .dataframe tbody tr th {\n",
       "        vertical-align: top;\n",
       "    }\n",
       "</style>\n",
       "<table border=\"1\" class=\"dataframe\">\n",
       "  <thead>\n",
       "    <tr style=\"text-align: right;\">\n",
       "      <th></th>\n",
       "      <th>Time</th>\n",
       "      <th>Person</th>\n",
       "      <th>xcor</th>\n",
       "      <th>ycor</th>\n",
       "    </tr>\n",
       "  </thead>\n",
       "  <tbody>\n",
       "    <tr>\n",
       "      <th>0</th>\n",
       "      <td>1</td>\n",
       "      <td>0</td>\n",
       "      <td>11.0</td>\n",
       "      <td>27.0</td>\n",
       "    </tr>\n",
       "    <tr>\n",
       "      <th>1</th>\n",
       "      <td>1</td>\n",
       "      <td>1</td>\n",
       "      <td>70.0</td>\n",
       "      <td>36.0</td>\n",
       "    </tr>\n",
       "    <tr>\n",
       "      <th>2</th>\n",
       "      <td>1</td>\n",
       "      <td>2</td>\n",
       "      <td>71.0</td>\n",
       "      <td>14.0</td>\n",
       "    </tr>\n",
       "    <tr>\n",
       "      <th>3</th>\n",
       "      <td>1</td>\n",
       "      <td>3</td>\n",
       "      <td>57.0</td>\n",
       "      <td>49.0</td>\n",
       "    </tr>\n",
       "    <tr>\n",
       "      <th>4</th>\n",
       "      <td>1</td>\n",
       "      <td>4</td>\n",
       "      <td>9.0</td>\n",
       "      <td>50.0</td>\n",
       "    </tr>\n",
       "  </tbody>\n",
       "</table>\n",
       "</div>"
      ],
      "text/plain": [
       "   Time  Person  xcor  ycor\n",
       "0     1       0  11.0  27.0\n",
       "1     1       1  70.0  36.0\n",
       "2     1       2  71.0  14.0\n",
       "3     1       3  57.0  49.0\n",
       "4     1       4   9.0  50.0"
      ]
     },
     "execution_count": 6,
     "metadata": {},
     "output_type": "execute_result"
    }
   ],
   "source": [
    "locations.head()"
   ]
  },
  {
   "cell_type": "code",
   "execution_count": 7,
   "metadata": {
    "collapsed": true
   },
   "outputs": [],
   "source": [
    "p = figure(title = \"Wholesale Customers Data\", tools=\"hover,lasso_select,pan,wheel_zoom,box_zoom,reset,save\")"
   ]
  },
  {
   "cell_type": "code",
   "execution_count": 8,
   "metadata": {
    "collapsed": true
   },
   "outputs": [],
   "source": [
    "def update(Time):\n",
    "    r = p.square(x, y, color='blue', fill_alpha=0.8, size=6)\n",
    "    locations_wr_time = locations[locations['Time']==Time]\n",
    "    p.circle(locations_wr_time['xcor'],locations_wr_time['ycor'],color='red',size=6,alpha=0.9)\n",
    "    push_notebook()"
   ]
  },
  {
   "cell_type": "code",
   "execution_count": 9,
   "metadata": {},
   "outputs": [
    {
     "name": "stderr",
     "output_type": "stream",
     "text": [
      "W-1001 (NO_DATA_RENDERERS): Plot has no data renderers: Figure(id='ceda761a-7f21-4cfc-87e6-7d5c457b5140', ...)\n"
     ]
    },
    {
     "data": {
      "text/html": [
       "\n",
       "\n",
       "    <div class=\"bk-root\">\n",
       "        <div class=\"bk-plotdiv\" id=\"1513cb87-84d3-4088-b7f2-07e1d2730b79\"></div>\n",
       "    </div>\n",
       "<script type=\"text/javascript\">\n",
       "  \n",
       "  (function(root) {\n",
       "    function now() {\n",
       "      return new Date();\n",
       "    }\n",
       "  \n",
       "    var force = false;\n",
       "  \n",
       "    if (typeof (root._bokeh_onload_callbacks) === \"undefined\" || force === true) {\n",
       "      root._bokeh_onload_callbacks = [];\n",
       "      root._bokeh_is_loading = undefined;\n",
       "    }\n",
       "  \n",
       "  \n",
       "    \n",
       "    if (typeof (root._bokeh_timeout) === \"undefined\" || force === true) {\n",
       "      root._bokeh_timeout = Date.now() + 0;\n",
       "      root._bokeh_failed_load = false;\n",
       "    }\n",
       "  \n",
       "    var NB_LOAD_WARNING = {'data': {'text/html':\n",
       "       \"<div style='background-color: #fdd'>\\n\"+\n",
       "       \"<p>\\n\"+\n",
       "       \"BokehJS does not appear to have successfully loaded. If loading BokehJS from CDN, this \\n\"+\n",
       "       \"may be due to a slow or bad network connection. Possible fixes:\\n\"+\n",
       "       \"</p>\\n\"+\n",
       "       \"<ul>\\n\"+\n",
       "       \"<li>re-rerun `output_notebook()` to attempt to load from CDN again, or</li>\\n\"+\n",
       "       \"<li>use INLINE resources instead, as so:</li>\\n\"+\n",
       "       \"</ul>\\n\"+\n",
       "       \"<code>\\n\"+\n",
       "       \"from bokeh.resources import INLINE\\n\"+\n",
       "       \"output_notebook(resources=INLINE)\\n\"+\n",
       "       \"</code>\\n\"+\n",
       "       \"</div>\"}};\n",
       "  \n",
       "    function display_loaded() {\n",
       "      if (root.Bokeh !== undefined) {\n",
       "        var el = document.getElementById(\"1513cb87-84d3-4088-b7f2-07e1d2730b79\");\n",
       "        if (el != null) {\n",
       "          el.textContent = \"BokehJS \" + Bokeh.version + \" successfully loaded.\";\n",
       "        }\n",
       "      } else if (Date.now() < root._bokeh_timeout) {\n",
       "        setTimeout(display_loaded, 100)\n",
       "      }\n",
       "    }\n",
       "  \n",
       "  \n",
       "    function run_callbacks() {\n",
       "      try {\n",
       "        root._bokeh_onload_callbacks.forEach(function(callback) { callback() });\n",
       "      }\n",
       "      finally {\n",
       "        delete root._bokeh_onload_callbacks\n",
       "      }\n",
       "      console.info(\"Bokeh: all callbacks have finished\");\n",
       "    }\n",
       "  \n",
       "    function load_libs(js_urls, callback) {\n",
       "      root._bokeh_onload_callbacks.push(callback);\n",
       "      if (root._bokeh_is_loading > 0) {\n",
       "        console.log(\"Bokeh: BokehJS is being loaded, scheduling callback at\", now());\n",
       "        return null;\n",
       "      }\n",
       "      if (js_urls == null || js_urls.length === 0) {\n",
       "        run_callbacks();\n",
       "        return null;\n",
       "      }\n",
       "      console.log(\"Bokeh: BokehJS not loaded, scheduling load and callback at\", now());\n",
       "      root._bokeh_is_loading = js_urls.length;\n",
       "      for (var i = 0; i < js_urls.length; i++) {\n",
       "        var url = js_urls[i];\n",
       "        var s = document.createElement('script');\n",
       "        s.src = url;\n",
       "        s.async = false;\n",
       "        s.onreadystatechange = s.onload = function() {\n",
       "          root._bokeh_is_loading--;\n",
       "          if (root._bokeh_is_loading === 0) {\n",
       "            console.log(\"Bokeh: all BokehJS libraries loaded\");\n",
       "            run_callbacks()\n",
       "          }\n",
       "        };\n",
       "        s.onerror = function() {\n",
       "          console.warn(\"failed to load library \" + url);\n",
       "        };\n",
       "        console.log(\"Bokeh: injecting script tag for BokehJS library: \", url);\n",
       "        document.getElementsByTagName(\"head\")[0].appendChild(s);\n",
       "      }\n",
       "    };var element = document.getElementById(\"1513cb87-84d3-4088-b7f2-07e1d2730b79\");\n",
       "    if (element == null) {\n",
       "      console.log(\"Bokeh: ERROR: autoload.js configured with elementid '1513cb87-84d3-4088-b7f2-07e1d2730b79' but no matching script tag was found. \")\n",
       "      return false;\n",
       "    }\n",
       "  \n",
       "    var js_urls = [];\n",
       "  \n",
       "    var inline_js = [\n",
       "      function(Bokeh) {\n",
       "        (function() {\n",
       "          var fn = function() {\n",
       "            var docs_json = {\"dd359e4e-864f-4065-8e2b-3e2edc3dab6e\":{\"roots\":{\"references\":[{\"attributes\":{\"formatter\":{\"id\":\"ff89d74c-c2d4-4918-956b-c9248bc9f5bd\",\"type\":\"BasicTickFormatter\"},\"plot\":{\"id\":\"ceda761a-7f21-4cfc-87e6-7d5c457b5140\",\"subtype\":\"Figure\",\"type\":\"Plot\"},\"ticker\":{\"id\":\"c22c1961-e2c1-4bc3-89b8-27fdc20c38fa\",\"type\":\"BasicTicker\"}},\"id\":\"317e1822-13c3-47c3-b277-f89d42212f7c\",\"type\":\"LinearAxis\"},{\"attributes\":{},\"id\":\"f075973b-0882-46d7-8dd9-bdba4c2bea37\",\"type\":\"BasicTickFormatter\"},{\"attributes\":{},\"id\":\"b282dc36-ce10-44fe-bf97-a803de878581\",\"type\":\"PanTool\"},{\"attributes\":{\"fill_alpha\":{\"value\":0.5},\"fill_color\":{\"value\":\"lightgrey\"},\"level\":\"overlay\",\"line_alpha\":{\"value\":1.0},\"line_color\":{\"value\":\"black\"},\"line_dash\":[4,4],\"line_width\":{\"value\":2},\"plot\":null,\"xs_units\":\"screen\",\"ys_units\":\"screen\"},\"id\":\"0a929971-18c1-4c3b-aaed-132d0e332979\",\"type\":\"PolyAnnotation\"},{\"attributes\":{\"callback\":null},\"id\":\"ce191ce5-2050-4ddd-8835-039791d2ebe0\",\"type\":\"DataRange1d\"},{\"attributes\":{},\"id\":\"495d92a7-194c-4cf8-977e-d189695603f0\",\"type\":\"SaveTool\"},{\"attributes\":{\"bottom_units\":\"screen\",\"fill_alpha\":{\"value\":0.5},\"fill_color\":{\"value\":\"lightgrey\"},\"left_units\":\"screen\",\"level\":\"overlay\",\"line_alpha\":{\"value\":1.0},\"line_color\":{\"value\":\"black\"},\"line_dash\":[4,4],\"line_width\":{\"value\":2},\"plot\":null,\"render_mode\":\"css\",\"right_units\":\"screen\",\"top_units\":\"screen\"},\"id\":\"c85d6150-2339-4119-ab23-c819f8a75ad7\",\"type\":\"BoxAnnotation\"},{\"attributes\":{\"callback\":null},\"id\":\"e9f87159-3269-4657-861b-a32d0671e85e\",\"type\":\"DataRange1d\"},{\"attributes\":{},\"id\":\"ff89d74c-c2d4-4918-956b-c9248bc9f5bd\",\"type\":\"BasicTickFormatter\"},{\"attributes\":{\"plot\":null,\"text\":\"Wholesale Customers Data\"},\"id\":\"3d43ee4d-9602-414b-b488-32bfc6fa9bd3\",\"type\":\"Title\"},{\"attributes\":{\"callback\":null},\"id\":\"576efbba-de75-4a04-b420-413eef4144f9\",\"type\":\"HoverTool\"},{\"attributes\":{},\"id\":\"c8e1bb5d-9641-4324-8ee4-89e187a81aea\",\"type\":\"LinearScale\"},{\"attributes\":{\"overlay\":{\"id\":\"c85d6150-2339-4119-ab23-c819f8a75ad7\",\"type\":\"BoxAnnotation\"}},\"id\":\"53ca8718-e9c4-460e-9d03-bbc0e9cb92a9\",\"type\":\"BoxZoomTool\"},{\"attributes\":{},\"id\":\"c22c1961-e2c1-4bc3-89b8-27fdc20c38fa\",\"type\":\"BasicTicker\"},{\"attributes\":{\"formatter\":{\"id\":\"f075973b-0882-46d7-8dd9-bdba4c2bea37\",\"type\":\"BasicTickFormatter\"},\"plot\":{\"id\":\"ceda761a-7f21-4cfc-87e6-7d5c457b5140\",\"subtype\":\"Figure\",\"type\":\"Plot\"},\"ticker\":{\"id\":\"ef32af4d-a02d-4fc4-a538-56cc1647ad68\",\"type\":\"BasicTicker\"}},\"id\":\"f46e43de-b797-4cce-8ad4-35eca3641d5d\",\"type\":\"LinearAxis\"},{\"attributes\":{},\"id\":\"6352a991-6dab-4793-847e-883c27b83960\",\"type\":\"WheelZoomTool\"},{\"attributes\":{},\"id\":\"c2b71512-25c2-4c41-ab20-ab8b16cf8976\",\"type\":\"LinearScale\"},{\"attributes\":{},\"id\":\"ff11ada7-998f-4d71-a8f9-c8aef53e3abe\",\"type\":\"ResetTool\"},{\"attributes\":{},\"id\":\"ef32af4d-a02d-4fc4-a538-56cc1647ad68\",\"type\":\"BasicTicker\"},{\"attributes\":{\"callback\":null,\"overlay\":{\"id\":\"0a929971-18c1-4c3b-aaed-132d0e332979\",\"type\":\"PolyAnnotation\"}},\"id\":\"6a8d14f1-38dd-4bf2-b0fe-3472813e4bef\",\"type\":\"LassoSelectTool\"},{\"attributes\":{\"dimension\":1,\"plot\":{\"id\":\"ceda761a-7f21-4cfc-87e6-7d5c457b5140\",\"subtype\":\"Figure\",\"type\":\"Plot\"},\"ticker\":{\"id\":\"ef32af4d-a02d-4fc4-a538-56cc1647ad68\",\"type\":\"BasicTicker\"}},\"id\":\"23087e14-805a-4f27-b0a9-e0e7d82a7f8d\",\"type\":\"Grid\"},{\"attributes\":{\"below\":[{\"id\":\"317e1822-13c3-47c3-b277-f89d42212f7c\",\"type\":\"LinearAxis\"}],\"left\":[{\"id\":\"f46e43de-b797-4cce-8ad4-35eca3641d5d\",\"type\":\"LinearAxis\"}],\"renderers\":[{\"id\":\"317e1822-13c3-47c3-b277-f89d42212f7c\",\"type\":\"LinearAxis\"},{\"id\":\"3bc1c9a0-f4ea-4920-be1e-52c132923d3d\",\"type\":\"Grid\"},{\"id\":\"f46e43de-b797-4cce-8ad4-35eca3641d5d\",\"type\":\"LinearAxis\"},{\"id\":\"23087e14-805a-4f27-b0a9-e0e7d82a7f8d\",\"type\":\"Grid\"},{\"id\":\"0a929971-18c1-4c3b-aaed-132d0e332979\",\"type\":\"PolyAnnotation\"},{\"id\":\"c85d6150-2339-4119-ab23-c819f8a75ad7\",\"type\":\"BoxAnnotation\"}],\"title\":{\"id\":\"3d43ee4d-9602-414b-b488-32bfc6fa9bd3\",\"type\":\"Title\"},\"toolbar\":{\"id\":\"830dead3-40fa-4d2d-a0fe-b0a013b2c02d\",\"type\":\"Toolbar\"},\"x_range\":{\"id\":\"e9f87159-3269-4657-861b-a32d0671e85e\",\"type\":\"DataRange1d\"},\"x_scale\":{\"id\":\"c8e1bb5d-9641-4324-8ee4-89e187a81aea\",\"type\":\"LinearScale\"},\"y_range\":{\"id\":\"ce191ce5-2050-4ddd-8835-039791d2ebe0\",\"type\":\"DataRange1d\"},\"y_scale\":{\"id\":\"c2b71512-25c2-4c41-ab20-ab8b16cf8976\",\"type\":\"LinearScale\"}},\"id\":\"ceda761a-7f21-4cfc-87e6-7d5c457b5140\",\"subtype\":\"Figure\",\"type\":\"Plot\"},{\"attributes\":{\"active_drag\":\"auto\",\"active_inspect\":\"auto\",\"active_scroll\":\"auto\",\"active_tap\":\"auto\",\"tools\":[{\"id\":\"576efbba-de75-4a04-b420-413eef4144f9\",\"type\":\"HoverTool\"},{\"id\":\"6a8d14f1-38dd-4bf2-b0fe-3472813e4bef\",\"type\":\"LassoSelectTool\"},{\"id\":\"b282dc36-ce10-44fe-bf97-a803de878581\",\"type\":\"PanTool\"},{\"id\":\"6352a991-6dab-4793-847e-883c27b83960\",\"type\":\"WheelZoomTool\"},{\"id\":\"53ca8718-e9c4-460e-9d03-bbc0e9cb92a9\",\"type\":\"BoxZoomTool\"},{\"id\":\"ff11ada7-998f-4d71-a8f9-c8aef53e3abe\",\"type\":\"ResetTool\"},{\"id\":\"495d92a7-194c-4cf8-977e-d189695603f0\",\"type\":\"SaveTool\"}]},\"id\":\"830dead3-40fa-4d2d-a0fe-b0a013b2c02d\",\"type\":\"Toolbar\"},{\"attributes\":{\"plot\":{\"id\":\"ceda761a-7f21-4cfc-87e6-7d5c457b5140\",\"subtype\":\"Figure\",\"type\":\"Plot\"},\"ticker\":{\"id\":\"c22c1961-e2c1-4bc3-89b8-27fdc20c38fa\",\"type\":\"BasicTicker\"}},\"id\":\"3bc1c9a0-f4ea-4920-be1e-52c132923d3d\",\"type\":\"Grid\"}],\"root_ids\":[\"ceda761a-7f21-4cfc-87e6-7d5c457b5140\"]},\"title\":\"Bokeh Application\",\"version\":\"0.12.7\"}};\n",
       "            var render_items = [{\"docid\":\"dd359e4e-864f-4065-8e2b-3e2edc3dab6e\",\"elementid\":\"1513cb87-84d3-4088-b7f2-07e1d2730b79\",\"modelid\":\"ceda761a-7f21-4cfc-87e6-7d5c457b5140\",\"notebook_comms_target\":\"c284cebf-f1b2-4afb-b2a5-230672cd3760\"}];\n",
       "            \n",
       "            Bokeh.embed.embed_items(docs_json, render_items);\n",
       "          };\n",
       "          if (document.readyState != \"loading\") fn();\n",
       "          else document.addEventListener(\"DOMContentLoaded\", fn);\n",
       "        })();\n",
       "      },\n",
       "      function(Bokeh) {\n",
       "      }\n",
       "    ];\n",
       "  \n",
       "    function run_inline_js() {\n",
       "      \n",
       "      if ((root.Bokeh !== undefined) || (force === true)) {\n",
       "        for (var i = 0; i < inline_js.length; i++) {\n",
       "          inline_js[i].call(root, root.Bokeh);\n",
       "        }if (force === true) {\n",
       "          display_loaded();\n",
       "        }} else if (Date.now() < root._bokeh_timeout) {\n",
       "        setTimeout(run_inline_js, 100);\n",
       "      } else if (!root._bokeh_failed_load) {\n",
       "        console.log(\"Bokeh: BokehJS failed to load within specified timeout.\");\n",
       "        root._bokeh_failed_load = true;\n",
       "      } else if (force !== true) {\n",
       "        var cell = $(document.getElementById(\"1513cb87-84d3-4088-b7f2-07e1d2730b79\")).parents('.cell').data().cell;\n",
       "        cell.output_area.append_execute_result(NB_LOAD_WARNING)\n",
       "      }\n",
       "  \n",
       "    }\n",
       "  \n",
       "    if (root._bokeh_is_loading === 0) {\n",
       "      console.log(\"Bokeh: BokehJS loaded, going straight to plotting\");\n",
       "      run_inline_js();\n",
       "    } else {\n",
       "      load_libs(js_urls, function() {\n",
       "        console.log(\"Bokeh: BokehJS plotting callback run at\", now());\n",
       "        run_inline_js();\n",
       "      });\n",
       "    }\n",
       "  }(window));\n",
       "</script>"
      ]
     },
     "metadata": {},
     "output_type": "display_data"
    }
   ],
   "source": [
    "show(p, notebook_handle=True)"
   ]
  },
  {
   "cell_type": "code",
   "execution_count": 10,
   "metadata": {},
   "outputs": [
    {
     "data": {
      "application/vnd.jupyter.widget-view+json": {
       "model_id": "f468c3bb56d043c7ae6ce5bd674ebaef"
      }
     },
     "metadata": {},
     "output_type": "display_data"
    },
    {
     "data": {
      "text/plain": [
       "<function __main__.update>"
      ]
     },
     "execution_count": 10,
     "metadata": {},
     "output_type": "execute_result"
    }
   ],
   "source": [
    "interact(update,Time=IntSlider(min=1,max=locations.shape[0],step=1,value=1))"
   ]
  },
  {
   "cell_type": "code",
   "execution_count": 11,
   "metadata": {},
   "outputs": [
    {
     "data": {
      "text/plain": [
       "{'_callbacks': {},\n",
       " '_document': <bokeh.document.Document at 0x28bb6ce59b0>,\n",
       " '_event_callbacks': {},\n",
       " '_id': 'ceda761a-7f21-4cfc-87e6-7d5c457b5140',\n",
       " '_property_values': {'below': [LinearAxis(id='317e1822-13c3-47c3-b277-f89d42212f7c', ...)],\n",
       "  'left': [LinearAxis(id='f46e43de-b797-4cce-8ad4-35eca3641d5d', ...)],\n",
       "  'renderers': [LinearAxis(id='317e1822-13c3-47c3-b277-f89d42212f7c', ...),\n",
       "   Grid(id='3bc1c9a0-f4ea-4920-be1e-52c132923d3d', ...),\n",
       "   LinearAxis(id='f46e43de-b797-4cce-8ad4-35eca3641d5d', ...),\n",
       "   Grid(id='23087e14-805a-4f27-b0a9-e0e7d82a7f8d', ...),\n",
       "   PolyAnnotation(id='0a929971-18c1-4c3b-aaed-132d0e332979', ...),\n",
       "   BoxAnnotation(id='c85d6150-2339-4119-ab23-c819f8a75ad7', ...),\n",
       "   GlyphRenderer(id='e3432d15-5cb8-4d4a-958c-f75dd4e8bea2', ...),\n",
       "   GlyphRenderer(id='19725de9-fa14-472f-9488-db3bbb771bf9', ...)],\n",
       "  'title': Title(id='3d43ee4d-9602-414b-b488-32bfc6fa9bd3', ...),\n",
       "  'toolbar': Toolbar(id='830dead3-40fa-4d2d-a0fe-b0a013b2c02d', ...),\n",
       "  'x_range': DataRange1d(id='e9f87159-3269-4657-861b-a32d0671e85e', ...),\n",
       "  'x_scale': LinearScale(id='c8e1bb5d-9641-4324-8ee4-89e187a81aea', ...),\n",
       "  'y_range': DataRange1d(id='ce191ce5-2050-4ddd-8835-039791d2ebe0', ...),\n",
       "  'y_scale': LinearScale(id='c2b71512-25c2-4c41-ab20-ab8b16cf8976', ...)},\n",
       " '_unstable_default_values': {'above': [],\n",
       "  'extra_x_ranges': {},\n",
       "  'extra_y_ranges': {},\n",
       "  'js_event_callbacks': {},\n",
       "  'js_property_callbacks': {},\n",
       "  'right': []},\n",
       " '_unstable_themed_values': {}}"
      ]
     },
     "execution_count": 11,
     "metadata": {},
     "output_type": "execute_result"
    }
   ],
   "source": [
    "p.__dict__"
   ]
  },
  {
   "cell_type": "code",
   "execution_count": 12,
   "metadata": {},
   "outputs": [
    {
     "data": {
      "text/plain": [
       "{'below': [LinearAxis(id='317e1822-13c3-47c3-b277-f89d42212f7c', ...)],\n",
       " 'left': [LinearAxis(id='f46e43de-b797-4cce-8ad4-35eca3641d5d', ...)],\n",
       " 'renderers': [LinearAxis(id='317e1822-13c3-47c3-b277-f89d42212f7c', ...),\n",
       "  Grid(id='3bc1c9a0-f4ea-4920-be1e-52c132923d3d', ...),\n",
       "  LinearAxis(id='f46e43de-b797-4cce-8ad4-35eca3641d5d', ...),\n",
       "  Grid(id='23087e14-805a-4f27-b0a9-e0e7d82a7f8d', ...),\n",
       "  PolyAnnotation(id='0a929971-18c1-4c3b-aaed-132d0e332979', ...),\n",
       "  BoxAnnotation(id='c85d6150-2339-4119-ab23-c819f8a75ad7', ...),\n",
       "  GlyphRenderer(id='e3432d15-5cb8-4d4a-958c-f75dd4e8bea2', ...),\n",
       "  GlyphRenderer(id='19725de9-fa14-472f-9488-db3bbb771bf9', ...)],\n",
       " 'title': Title(id='3d43ee4d-9602-414b-b488-32bfc6fa9bd3', ...),\n",
       " 'toolbar': Toolbar(id='830dead3-40fa-4d2d-a0fe-b0a013b2c02d', ...),\n",
       " 'x_range': DataRange1d(id='e9f87159-3269-4657-861b-a32d0671e85e', ...),\n",
       " 'x_scale': LinearScale(id='c8e1bb5d-9641-4324-8ee4-89e187a81aea', ...),\n",
       " 'y_range': DataRange1d(id='ce191ce5-2050-4ddd-8835-039791d2ebe0', ...),\n",
       " 'y_scale': LinearScale(id='c2b71512-25c2-4c41-ab20-ab8b16cf8976', ...)}"
      ]
     },
     "execution_count": 12,
     "metadata": {},
     "output_type": "execute_result"
    }
   ],
   "source": [
    "p.__dict__['_property_values']"
   ]
  },
  {
   "cell_type": "code",
   "execution_count": null,
   "metadata": {
    "collapsed": true
   },
   "outputs": [],
   "source": []
  },
  {
   "cell_type": "code",
   "execution_count": 13,
   "metadata": {
    "collapsed": true
   },
   "outputs": [],
   "source": [
    "#p.__dict__['_property_values']['renderers'] = p.__dict__['_property_values']['renderers'][:6]"
   ]
  },
  {
   "cell_type": "code",
   "execution_count": null,
   "metadata": {
    "collapsed": true
   },
   "outputs": [],
   "source": []
  }
 ],
 "metadata": {
  "kernelspec": {
   "display_name": "Python 3",
   "language": "python",
   "name": "python3"
  },
  "language_info": {
   "codemirror_mode": {
    "name": "ipython",
    "version": 3
   },
   "file_extension": ".py",
   "mimetype": "text/x-python",
   "name": "python",
   "nbconvert_exporter": "python",
   "pygments_lexer": "ipython3",
   "version": "3.6.1"
  }
 },
 "nbformat": 4,
 "nbformat_minor": 2
}
